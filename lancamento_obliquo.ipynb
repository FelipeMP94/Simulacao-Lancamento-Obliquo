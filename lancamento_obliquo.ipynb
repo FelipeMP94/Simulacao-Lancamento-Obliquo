{
  "nbformat": 4,
  "nbformat_minor": 0,
  "metadata": {
    "colab": {
      "name": "lancamento_obliquo.ipynb",
      "provenance": [],
      "toc_visible": true,
      "collapsed_sections": [],
      "include_colab_link": true
    },
    "kernelspec": {
      "name": "python3",
      "display_name": "Python 3"
    },
    "language_info": {
      "name": "python"
    }
  },
  "cells": [
    {
      "cell_type": "markdown",
      "metadata": {
        "id": "view-in-github",
        "colab_type": "text"
      },
      "source": [
        "<a href=\"https://colab.research.google.com/github/FelipeMP94/Simulacao-Lancamento-Obliquo/blob/main/lancamento_obliquo.ipynb\" target=\"_parent\"><img src=\"https://colab.research.google.com/assets/colab-badge.svg\" alt=\"Open In Colab\"/></a>"
      ]
    },
    {
      "cell_type": "markdown",
      "source": [
        "# Simulação de um lançamento oblíquo de um corpo \n",
        "\n",
        "Nosso objetivo é realizar simulações de lançamentos obliquos\n",
        "\n",
        "  Dai temos as seguintes equações para descrever a velocidade \n",
        "\n",
        "**Velocidade em x**\n",
        "\n",
        "Vx = V0*cos(theta)\n",
        "\n",
        "**Velocidade em y**\n",
        "\n",
        "Vy = V0*seno(theta)\n",
        "\n",
        "**A velociade total do objeto**\n",
        "\n",
        "V² = Vx²+Vy²\n",
        "\n",
        "**Nesse sistema também consideraremos uma força de atrito dada por** \n",
        "\n",
        "Fat = -kv/m\n",
        "\n",
        "Para saber a posição do objeto nos eixos x e y durante a trajetória teremos as seguintes equações\n",
        "\n",
        "Px = P0 + Vx.Δt\n",
        "\n",
        "Py = P0 +Vy.Δt\n",
        "\n",
        "\n",
        "**Para calcular a energia cinética temos que:**\n",
        "\n",
        "Ec = mv²/2"
      ],
      "metadata": {
        "id": "LQK2-ZnT9Qlk"
      }
    },
    {
      "cell_type": "markdown",
      "source": [
        "# Simulação 01:\n",
        "Simular o  lançamento obliquo a partir do solo  de um objeto com os seguintes parâmetros\n",
        "\n",
        "Vlocidade inicial: 30m/s\n",
        "\n",
        "Aceleração da Gravidade: 10m/s²\n",
        "\n",
        "Angulo de lançamento: 45 graus\n",
        "\n",
        "Parâmetro de atrito: 2\n",
        "\n",
        "Massa do objeto : 10kg\n",
        "\n",
        "Posição de lançamento: x=0 y=0(lançamento a partir do solo)\n",
        "\n",
        "Tempo de simulação: 10 segundos\n",
        "\n",
        "\n",
        "Nesta simulação a colisão do objeto com o solo será **perfeitamente inelástica** "
      ],
      "metadata": {
        "id": "hHcdBhUrg0D_"
      }
    },
    {
      "cell_type": "markdown",
      "source": [
        "# Simulação 02:\n",
        "Simular o lançamento obliquo a partir do solo de um objeto com os seguintes parâmetros iguais os da simulação 01\n",
        "\n",
        "Vlocidade inicial: 30m/s\n",
        "\n",
        "Aceleração da Gravidade: 10m/s²\n",
        "\n",
        "Angulo de lançamento: 45 graus\n",
        "\n",
        "Parâmetro de atrito: 2\n",
        "\n",
        "Massa do objeto : 10kg\n",
        "\n",
        "Posição de lançamento: x=0 y=0(lançamento a partir do solo)\n",
        "\n",
        "Tempo de simulação: 10 segundos\n",
        "\n",
        "Porem Nesta simulação a colisão do objeto com o solo será **perfeitamente elástica**"
      ],
      "metadata": {
        "id": "ICAxVk1PdPyT"
      }
    },
    {
      "cell_type": "code",
      "source": [
        "# Bibliotecas\n",
        "import numpy as np\n",
        "import math as ma\n",
        "from matplotlib import pyplot as plt"
      ],
      "metadata": {
        "id": "mCu-iURRtXyx"
      },
      "execution_count": null,
      "outputs": []
    },
    {
      "cell_type": "markdown",
      "source": [
        "## **Simulação 01-Parâmetros e Calculos**"
      ],
      "metadata": {
        "id": "gClnkUCZHnLi"
      }
    },
    {
      "cell_type": "code",
      "source": [
        "DT = 0.01 #variação da velocidade\n",
        "V0 = 30 #velocidade inicial em m/s\n",
        "G = -10 #gravidade\n",
        "Tmax = 10 #tempo máximo da simulação \n",
        "posi_inicial = [0,0] # posição inicial do objeto \n",
        "angulo = ma.radians(45)\n",
        "k = 2\n",
        "massa =10\n",
        "\n",
        "#variaveis \n",
        "\n",
        "\n",
        "\n",
        "V0x = V0*ma.cos(angulo)\n",
        "x = V0x\n",
        "V0y = V0*ma.sin(angulo)\n",
        "y = V0y\n",
        "\n",
        "V = (V0x**2) + (V0y**2)\n",
        "\n",
        "\n",
        "Ec0 = massa*V/2\n",
        "Ecfinal = Ec0\n",
        "\n",
        "atingiu_chao = False\n",
        "\n",
        "#Listas para plot\n",
        "vyl = [V0y]\n",
        "vxl = [V0x]\n",
        "vl = [ma.sqrt(V)]    #vetor da velocidade\n",
        "pl = [posi_inicial]# vetor das posições\n",
        "pilha = pl[:]\n",
        "Ecl = [Ec0]\n",
        "pilhaec = []\n",
        "tl = np.arange(0,Tmax,DT)"
      ],
      "metadata": {
        "id": "dpW29jsIHpcR"
      },
      "execution_count": null,
      "outputs": []
    },
    {
      "cell_type": "code",
      "source": [
        "for i in np.arange(DT,Tmax,DT):\n",
        "\n",
        "\n",
        "    aux = pilha.pop()\n",
        "    if(aux[1]<0):\n",
        "      atingiu_chao = True\n",
        "    if(atingiu_chao==True):\n",
        "      Vx = 0\n",
        "      Vy = 0 \n",
        "      Px = Px\n",
        "      Py = 0\n",
        "      V = 0\n",
        "      Ecfinal = Ec\n",
        "      pilhaec.append(Ecfinal)\n",
        "      Ec = 0\n",
        "    else:\n",
        "      Vx = x+DT*(-k*x/massa)\n",
        "      Vy = y+(G-k*y/massa)*DT\n",
        "      x = Vx\n",
        "      y = Vy\n",
        "      V = (Vx**2) + (Vy**2)\n",
        "      Ec = massa*V/2\n",
        "      Px = aux[0] + DT*Vx\n",
        "      Py = aux[1] + DT*Vy\n",
        "\n",
        "    pilha.append([Px,Py])\n",
        "    pl.append([Px,Py])\n",
        "    Ecl.append(Ec)\n",
        "    vyl.append(Vy)\n",
        "    vxl.append(Vx)\n",
        "    vl.append(ma.sqrt(V))\n",
        "\n",
        "\n",
        "\n",
        "    \n",
        "\n"
      ],
      "metadata": {
        "id": "OjSvtUUAs_5J"
      },
      "execution_count": null,
      "outputs": []
    },
    {
      "cell_type": "markdown",
      "source": [
        "## **Simulação 01-Gráficos e análises** "
      ],
      "metadata": {
        "id": "yphb7c_2XDWL"
      }
    },
    {
      "cell_type": "code",
      "source": [
        "#Gráfico 01-Deslocamento em x(azul) e em y(amarelo)\n",
        "plt.plot(tl,pl)"
      ],
      "metadata": {
        "colab": {
          "base_uri": "https://localhost:8080/",
          "height": 300
        },
        "id": "ANqN9YE9ZfJR",
        "outputId": "eb24b579-832e-4fe4-af2f-f7ed976d22de"
      },
      "execution_count": null,
      "outputs": [
        {
          "output_type": "execute_result",
          "data": {
            "text/plain": [
              "[<matplotlib.lines.Line2D at 0x7f076511c5d0>,\n",
              " <matplotlib.lines.Line2D at 0x7f075fcb5cd0>]"
            ]
          },
          "metadata": {},
          "execution_count": 6
        },
        {
          "output_type": "display_data",
          "data": {
            "text/plain": [
              "<Figure size 432x288 with 1 Axes>"
            ],
            "image/png": "[encoded data removed]"
          },
          "metadata": {
            "needs_background": "light"
          }
        }
      ]
    },
    {
      "cell_type": "markdown",
      "source": [
        "O gráfico 01 análisa a posição do objeto durante toda a trajetória do lançamento.\n",
        "\n",
        "No lançamento obliquo o objeto se desloca de forma contínua no eixo x até atingir o chão \n",
        "\n",
        "Já seu deslocamento no eixo y começa crescente, até atingir seu ponto máximo, a partir dai a particula passa a se deslocar no sentido contrário até atingir o chão "
      ],
      "metadata": {
        "id": "P1VGzuk9ip-U"
      }
    },
    {
      "cell_type": "code",
      "source": [
        "#Grafico 02-Velocidade Total\n",
        "plt.plot(tl,vl)"
      ],
      "metadata": {
        "colab": {
          "base_uri": "https://localhost:8080/",
          "height": 282
        },
        "id": "NIFJlaDPf5e5",
        "outputId": "cbffbab7-c81c-43d3-b1b7-fab029b99339"
      },
      "execution_count": null,
      "outputs": [
        {
          "output_type": "execute_result",
          "data": {
            "text/plain": [
              "[<matplotlib.lines.Line2D at 0x7f075f784810>]"
            ]
          },
          "metadata": {},
          "execution_count": 7
        },
        {
          "output_type": "display_data",
          "data": {
            "text/plain": [
              "<Figure size 432x288 with 1 Axes>"
            ],
            "image/png": "[encoded data removed]"
          },
          "metadata": {
            "needs_background": "light"
          }
        }
      ]
    },
    {
      "cell_type": "markdown",
      "source": [
        "Podemos decompor a velocidade total do objeto em uma velocidade na horizontal e na vertical."
      ],
      "metadata": {
        "id": "v6Mi58K5QE74"
      }
    },
    {
      "cell_type": "code",
      "source": [
        "#Grafico 03-Velocidade do objeto em x\n",
        "plt.plot(tl,vxl)"
      ],
      "metadata": {
        "colab": {
          "base_uri": "https://localhost:8080/",
          "height": 282
        },
        "id": "I-OO6OmfRkSX",
        "outputId": "7aaad348-0bc2-4ea2-d979-6508a34d1ac2"
      },
      "execution_count": null,
      "outputs": [
        {
          "output_type": "execute_result",
          "data": {
            "text/plain": [
              "[<matplotlib.lines.Line2D at 0x7f075f6ffbd0>]"
            ]
          },
          "metadata": {},
          "execution_count": 8
        },
        {
          "output_type": "display_data",
          "data": {
            "text/plain": [
              "<Figure size 432x288 with 1 Axes>"
            ],
            "image/png": "[encoded data removed]"
          },
          "metadata": {
            "needs_background": "light"
          }
        }
      ]
    },
    {
      "cell_type": "markdown",
      "source": [
        "Vemos que no eixo horizontal a força de atrito faz com que o objeto vá desacelerando até atingir o solo  "
      ],
      "metadata": {
        "id": "NV3-HLc9TE-f"
      }
    },
    {
      "cell_type": "code",
      "source": [
        "#Gráfico 04-Velocidade do objeto em y \n",
        "plt.plot(tl,vyl)"
      ],
      "metadata": {
        "colab": {
          "base_uri": "https://localhost:8080/",
          "height": 282
        },
        "id": "XBuPZzPNRz-0",
        "outputId": "bf67f901-4095-4d6c-959b-71a917900a64"
      },
      "execution_count": null,
      "outputs": [
        {
          "output_type": "execute_result",
          "data": {
            "text/plain": [
              "[<matplotlib.lines.Line2D at 0x7f075f6e3ad0>]"
            ]
          },
          "metadata": {},
          "execution_count": 9
        },
        {
          "output_type": "display_data",
          "data": {
            "text/plain": [
              "<Figure size 432x288 with 1 Axes>"
            ],
            "image/png": "[encoded data removed]"
          },
          "metadata": {
            "needs_background": "light"
          }
        }
      ]
    },
    {
      "cell_type": "markdown",
      "source": [
        "Podemos observar que o vetor velocidade em y começa perdendo velocidade até atingir velocidade zero.\n",
        "\n",
        "Depois disso, a força da gravidade passa então a acelerar o objeto dessa vez no sentido contrário ao do início até finalmente encontrar o solo "
      ],
      "metadata": {
        "id": "1oB2DJhnSAlu"
      }
    },
    {
      "cell_type": "code",
      "source": [
        "#Gráfico 05-Energía cinética do objeto \n",
        "plt.plot(tl,Ecl)"
      ],
      "metadata": {
        "colab": {
          "base_uri": "https://localhost:8080/",
          "height": 282
        },
        "id": "s0ClnlxPaXYt",
        "outputId": "7f231a85-17f4-42ed-836b-9a746d6bd6a3"
      },
      "execution_count": null,
      "outputs": [
        {
          "output_type": "execute_result",
          "data": {
            "text/plain": [
              "[<matplotlib.lines.Line2D at 0x7f075f659f10>]"
            ]
          },
          "metadata": {},
          "execution_count": 10
        },
        {
          "output_type": "display_data",
          "data": {
            "text/plain": [
              "<Figure size 432x288 with 1 Axes>"
            ],
            "image/png": "[encoded data removed]"
          },
          "metadata": {
            "needs_background": "light"
          }
        }
      ]
    },
    {
      "cell_type": "markdown",
      "source": [
        "Por estarem relacionadas, a energía cinética tem um gráfico muito parecido com o da velocidade.\n",
        "\n",
        "Pelo gráfico podemos observar que a energía cinética no momento do choque com o solo é:\n",
        "\n",
        "\n",
        "\n"
      ],
      "metadata": {
        "id": "B3yGdUhNbScP"
      }
    },
    {
      "cell_type": "code",
      "source": [
        "print(pilhaec[0])"
      ],
      "metadata": {
        "colab": {
          "base_uri": "https://localhost:8080/"
        },
        "id": "wViz5MWHbsGU",
        "outputId": "64188c9d-8392-4671-bfb3-5851aeeaf8e2"
      },
      "execution_count": null,
      "outputs": [
        {
          "output_type": "stream",
          "name": "stdout",
          "text": [
            "1852.9147947180327\n"
          ]
        }
      ]
    },
    {
      "cell_type": "markdown",
      "source": [
        "# **Simulação 02-Parâmetros e Calculos**"
      ],
      "metadata": {
        "id": "o_hbZwS2dHQK"
      }
    },
    {
      "cell_type": "code",
      "source": [
        "DT = 0.01 #variação da velocidade\n",
        "V0 = 30 #velocidade inicial em m/s\n",
        "G = -10 #gravidade\n",
        "Tmax = 10 #tempo máximo da simulação \n",
        "posi_inicial = [0,0] # posição inicial do objeto \n",
        "angulo = ma.radians(45)\n",
        "k = 2\n",
        "massa =10\n",
        "\n",
        "#variaveis \n",
        "\n",
        "\n",
        "\n",
        "V0x = V0*ma.cos(angulo)\n",
        "x = V0x\n",
        "V0y = V0*ma.sin(angulo)\n",
        "y = V0y\n",
        "\n",
        "V = (V0x**2) + (V0y**2)\n",
        "\n",
        "\n",
        "Ec0 = massa*V/2\n",
        "\n",
        "atingiu_chao = False\n",
        "\n",
        "#Listas para plot\n",
        "vyl = [V0y]\n",
        "vxl = [V0x]\n",
        "vl = [ma.sqrt(V)]    #vetor da velocidade\n",
        "pl = [posi_inicial]# vetor das posições\n",
        "pilha = pl[:]\n",
        "Ecl = [Ec0]\n",
        "tl = np.arange(0,Tmax,DT)"
      ],
      "metadata": {
        "id": "d_F1Jb_JeKel"
      },
      "execution_count": null,
      "outputs": []
    },
    {
      "cell_type": "code",
      "source": [
        "for i in np.arange(DT,Tmax,DT):\n",
        "\n",
        "\n",
        "    aux = pilha.pop()\n",
        "    if(aux[1]<0):\n",
        "      atingiu_chao = True\n",
        "    if(atingiu_chao==True):\n",
        "      Vy = -(y+(G-k*y/massa)*DT)\n",
        "      atingiu_chao = False\n",
        "    else:\n",
        "      Vy = y+(G-k*y/massa)*DT\n",
        "\n",
        "    \n",
        "      \n",
        "   \n",
        "    Vx = x+DT*(-k*x/massa)\n",
        "    x = Vx\n",
        "    y = Vy\n",
        "    V = (Vx**2) + (Vy**2)\n",
        "    Ec = massa*V/2\n",
        "    Px = aux[0] + DT*Vx\n",
        "    Py = aux[1] + DT*Vy\n",
        "\n",
        "    pilha.append([Px,Py])\n",
        "    pl.append([Px,Py])\n",
        "    Ecl.append(Ec)\n",
        "    vyl.append(Vy)\n",
        "    vxl.append(Vx)\n",
        "    vl.append(ma.sqrt(V))"
      ],
      "metadata": {
        "id": "mBrcZX70eSf2"
      },
      "execution_count": null,
      "outputs": []
    },
    {
      "cell_type": "markdown",
      "source": [
        "# **Simulação 02-Gráficos e Análises**\n"
      ],
      "metadata": {
        "id": "Rirt9_DMfTU-"
      }
    },
    {
      "cell_type": "code",
      "source": [
        "#Gráfico 06-Deslocamento em x(azul) e em y(amarelo)\n",
        "plt.plot(tl,pl)"
      ],
      "metadata": {
        "colab": {
          "base_uri": "https://localhost:8080/",
          "height": 300
        },
        "id": "DNCTjKHXf5Vt",
        "outputId": "c7575143-ab84-46f9-c804-29d8ac65a37c"
      },
      "execution_count": null,
      "outputs": [
        {
          "output_type": "execute_result",
          "data": {
            "text/plain": [
              "[<matplotlib.lines.Line2D at 0x7f075f5e45d0>,\n",
              " <matplotlib.lines.Line2D at 0x7f075f5832d0>]"
            ]
          },
          "metadata": {},
          "execution_count": 14
        },
        {
          "output_type": "display_data",
          "data": {
            "text/plain": [
              "<Figure size 432x288 with 1 Axes>"
            ],
            "image/png": "[encoded data removed]"
          },
          "metadata": {
            "needs_background": "light"
          }
        }
      ]
    },
    {
      "cell_type": "markdown",
      "source": [
        "Numa colisão completamente Elástica o objeto ira continuar se deslocando no sentido positivo de x.\n",
        "\n",
        "Em y o objeto irá variar infinitamente entre zero e a altura máxima."
      ],
      "metadata": {
        "id": "EkZDhgNAggh_"
      }
    },
    {
      "cell_type": "code",
      "source": [
        "#Grafico 07-Velocidade Total\n",
        "plt.plot(tl,vl)"
      ],
      "metadata": {
        "colab": {
          "base_uri": "https://localhost:8080/",
          "height": 282
        },
        "id": "o-FpDujNhMaB",
        "outputId": "b9f9940d-fec2-46bc-8aa4-b3e41038bc6a"
      },
      "execution_count": null,
      "outputs": [
        {
          "output_type": "execute_result",
          "data": {
            "text/plain": [
              "[<matplotlib.lines.Line2D at 0x7f075fc11b90>]"
            ]
          },
          "metadata": {},
          "execution_count": 15
        },
        {
          "output_type": "display_data",
          "data": {
            "text/plain": [
              "<Figure size 432x288 with 1 Axes>"
            ],
            "image/png": "[encoded data removed]"
          },
          "metadata": {
            "needs_background": "light"
          }
        }
      ]
    },
    {
      "cell_type": "markdown",
      "source": [
        "decompondo a velocidade em horizontal e vertical  "
      ],
      "metadata": {
        "id": "c1GVmkOThqUy"
      }
    },
    {
      "cell_type": "code",
      "source": [
        "#Grafico 08-Velocidade do objeto em x\n",
        "plt.plot(tl,vxl)"
      ],
      "metadata": {
        "colab": {
          "base_uri": "https://localhost:8080/",
          "height": 282
        },
        "id": "lX_LnqgEiHvn",
        "outputId": "324f408a-51d6-4ba9-805e-7d9733b45a0c"
      },
      "execution_count": null,
      "outputs": [
        {
          "output_type": "execute_result",
          "data": {
            "text/plain": [
              "[<matplotlib.lines.Line2D at 0x7f075f5a8c90>]"
            ]
          },
          "metadata": {},
          "execution_count": 16
        },
        {
          "output_type": "display_data",
          "data": {
            "text/plain": [
              "<Figure size 432x288 with 1 Axes>"
            ],
            "image/png": "[encoded data removed]"
          },
          "metadata": {
            "needs_background": "light"
          }
        }
      ]
    },
    {
      "cell_type": "markdown",
      "source": [
        "O vetor de velocidade em x sofre constantemente o atrito do ar e por isso vai diminuindo ao longo de toda a trajetória do objeto."
      ],
      "metadata": {
        "id": "2wlIbwZLialF"
      }
    },
    {
      "cell_type": "code",
      "source": [
        "#Gráfico 09-Velocidade do objeto em y \n",
        "plt.plot(tl,vyl)"
      ],
      "metadata": {
        "colab": {
          "base_uri": "https://localhost:8080/",
          "height": 282
        },
        "id": "W2UlGOfbf5bF",
        "outputId": "d3d3f77c-adea-41df-d8cd-91bf1cabb937"
      },
      "execution_count": null,
      "outputs": [
        {
          "output_type": "execute_result",
          "data": {
            "text/plain": [
              "[<matplotlib.lines.Line2D at 0x7f075f48ad50>]"
            ]
          },
          "metadata": {},
          "execution_count": 17
        },
        {
          "output_type": "display_data",
          "data": {
            "text/plain": [
              "<Figure size 432x288 with 1 Axes>"
            ],
            "image/png": "[encoded data removed]"
          },
          "metadata": {
            "needs_background": "light"
          }
        }
      ]
    },
    {
      "cell_type": "markdown",
      "source": [
        "Como nessa simulação a colisão com o solo é completamente elástica, ao colidir o objeto é refletido com a mesma intensidade, e por isso que o gráfico mostra um padrão de aceleração positiva e negativa a cada toque do objeto no solo."
      ],
      "metadata": {
        "id": "wyEqD6Dri6hX"
      }
    },
    {
      "cell_type": "code",
      "source": [
        "#Gráfico 10-Energía cinética do objeto \n",
        "plt.plot(tl,Ecl)"
      ],
      "metadata": {
        "colab": {
          "base_uri": "https://localhost:8080/",
          "height": 282
        },
        "id": "nEFPXgDjj6D5",
        "outputId": "aed6c531-03bb-479e-8afe-b6bee78a8947"
      },
      "execution_count": null,
      "outputs": [
        {
          "output_type": "execute_result",
          "data": {
            "text/plain": [
              "[<matplotlib.lines.Line2D at 0x7f075f4001d0>]"
            ]
          },
          "metadata": {},
          "execution_count": 18
        },
        {
          "output_type": "display_data",
          "data": {
            "text/plain": [
              "<Figure size 432x288 with 1 Axes>"
            ],
            "image/png": "[encoded data removed]"
          },
          "metadata": {
            "needs_background": "light"
          }
        }
      ]
    },
    {
      "cell_type": "markdown",
      "source": [
        "Vemos que a energia sinética tende a dimínuir já que o objeto está sofrendo com a influência do atrito em toda sua trajetória"
      ],
      "metadata": {
        "id": "bzTihBX4kFx0"
      }
    },
    {
      "cell_type": "markdown",
      "source": [
        "# **Conclusão**\n",
        "Ao observar os gráficos das duas simulações podemos observar que na colisão completamente elástica as tendências  da colisão completamente inelástica se mantem já que o objeto passa a sofrer apenas com a força do atrito."
      ],
      "metadata": {
        "id": "Ew_hejqwkofs"
      }
    }
  ]
}